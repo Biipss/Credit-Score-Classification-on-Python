{
 "cells": [
  {
   "attachments": {},
   "cell_type": "markdown",
   "metadata": {},
   "source": [
    "## `Pandas`\n",
    "- used for cleaning, exploring, manipulating and analyzing the data."
   ]
  },
  {
   "attachments": {},
   "cell_type": "markdown",
   "metadata": {},
   "source": [
    "#### &emsp;`why to use?`\n",
    "- &emsp;&emsp; can analyze huge amount of data and derive statistical inferences.\n",
    "- &emsp;&emsp; transforms messy data into readable and relevant."
   ]
  },
  {
   "attachments": {},
   "cell_type": "markdown",
   "metadata": {},
   "source": [
    "#### &emsp; `Package installation`\n",
    "```python\n",
    "    # Type\n",
    "    pip install pandas\n",
    "    # in command prompt after activating the environment.\n",
    "```"
   ]
  },
  {
   "cell_type": "code",
   "execution_count": null,
   "metadata": {},
   "outputs": [],
   "source": [
    "# import in file to use its features.\n",
    "import pandas as pd\n",
    "\n",
    "# check version\n",
    "print(pd.__version__)"
   ]
  },
  {
   "attachments": {},
   "cell_type": "markdown",
   "metadata": {},
   "source": [
    "#### `Datatypes`\n",
    "- Series\n",
    "- Dataframe"
   ]
  },
  {
   "attachments": {},
   "cell_type": "markdown",
   "metadata": {},
   "source": [
    "### `Series`\n",
    "- like a column in table.\n",
    "- can hold data of any type.\n",
    "- can hold 1-D array."
   ]
  },
  {
   "attachments": {},
   "cell_type": "markdown",
   "metadata": {},
   "source": [
    "#### `Create series from list`"
   ]
  },
  {
   "cell_type": "code",
   "execution_count": null,
   "metadata": {},
   "outputs": [],
   "source": [
    "arr = [1, 2, 3]\n",
    "series_1 = pd.Series(arr)\n",
    "\n",
    "print(type(series_1))\n",
    "print(series_1)"
   ]
  },
  {
   "attachments": {},
   "cell_type": "markdown",
   "metadata": {},
   "source": [
    "#### `Labels`\n",
    "- If no labels are provided to the values, they are indexed with index number.\n",
    "- The values can be annotated with labels explicitly\n",
    "- Values can be accessed using index or labels (if provided)."
   ]
  },
  {
   "attachments": {},
   "cell_type": "markdown",
   "metadata": {},
   "source": [
    "#### `Create series from list along with labels.`"
   ]
  },
  {
   "cell_type": "code",
   "execution_count": null,
   "metadata": {},
   "outputs": [],
   "source": [
    "arr = [1, 2, 3]\n",
    "labels = ['first', 'second', 'third']\n",
    "series_2 = pd.Series(arr, index=labels)\n",
    "\n",
    "print(type(series_2))\n",
    "print(series_2)"
   ]
  },
  {
   "attachments": {},
   "cell_type": "markdown",
   "metadata": {},
   "source": [
    "#### `Access values`"
   ]
  },
  {
   "cell_type": "code",
   "execution_count": null,
   "metadata": {},
   "outputs": [],
   "source": [
    "print(f\"first value of series_1: {series_1[0]}\")\n",
    "\n",
    "print(f\"first value of series_2: {series_2['first']}\")"
   ]
  },
  {
   "attachments": {},
   "cell_type": "markdown",
   "metadata": {},
   "source": [
    "#### `Create series from dictionary`"
   ]
  },
  {
   "cell_type": "code",
   "execution_count": null,
   "metadata": {},
   "outputs": [],
   "source": [
    "places_area = {'Kathmandu':1234, 'Pokhara':2345, 'Dharan':3456}\n",
    "\n",
    "series_3 = pd.Series(places_area)\n",
    "print(series_3)\n",
    "\n",
    "# keys in dictionary becomes labels in series"
   ]
  },
  {
   "attachments": {},
   "cell_type": "markdown",
   "metadata": {},
   "source": [
    "#### `Create series from subset of dictionary`"
   ]
  },
  {
   "cell_type": "code",
   "execution_count": null,
   "metadata": {},
   "outputs": [],
   "source": [
    "places_area = {'Kathmandu':1234, 'Pokhara':2345, 'Dharan':3456}\n",
    "\n",
    "series_4 = pd.Series(places_area, index=['Kathmandu', 'Pokhara'])\n",
    "print(series_4)"
   ]
  },
  {
   "attachments": {},
   "cell_type": "markdown",
   "metadata": {},
   "source": [
    "### `DataFrame`\n",
    "- like a table.\n",
    "- 2-D data structure having rows and columns."
   ]
  },
  {
   "attachments": {},
   "cell_type": "markdown",
   "metadata": {},
   "source": [
    "#### `Create a dataframe from dictionary`"
   ]
  },
  {
   "cell_type": "code",
   "execution_count": null,
   "metadata": {},
   "outputs": [],
   "source": [
    "subject_marks = {\n",
    "    'english' : [50, 60, 70, 80 , 90],\n",
    "    'math' : [51, 53, 55, 52, 50],\n",
    "    'science' : [80, 81, 82, 83, 84],\n",
    "    'computer' : [90, 91, 92, 93, 94]\n",
    "}\n",
    "\n",
    "df = pd.DataFrame(subject_marks)\n",
    "print(df)"
   ]
  },
  {
   "attachments": {},
   "cell_type": "markdown",
   "metadata": {},
   "source": [
    "#### `Locate rows in DataFrame`\n",
    "- uses `loc` attribute to get rows"
   ]
  },
  {
   "cell_type": "code",
   "execution_count": null,
   "metadata": {},
   "outputs": [],
   "source": [
    "# integer as index\n",
    "row = df.loc[0]\n",
    "print(type(row))\n",
    "print(row)"
   ]
  },
  {
   "cell_type": "code",
   "execution_count": null,
   "metadata": {},
   "outputs": [],
   "source": [
    "# list as index\n",
    "row = df.loc[[0]]\n",
    "print(type(row))\n",
    "print(row)"
   ]
  },
  {
   "attachments": {},
   "cell_type": "markdown",
   "metadata": {},
   "source": [
    "#### `Named Indexes`"
   ]
  },
  {
   "cell_type": "code",
   "execution_count": null,
   "metadata": {},
   "outputs": [],
   "source": [
    "# Create a dataframe from dictionary\n",
    "subject_marks = {\n",
    "    'english' : [50, 60, 70, 80 , 90],\n",
    "    'math' : [51, 53, 55, 52, 50],\n",
    "    'science' : [80, 81, 82, 83, 84],\n",
    "    'computer' : [90, 91, 92, 93, 94]\n",
    "}\n",
    "\n",
    "labels = ['student1','student2','student3','student4','student5']\n",
    "\n",
    "df = pd.DataFrame(subject_marks, index=labels)\n",
    "print(df)"
   ]
  },
  {
   "attachments": {},
   "cell_type": "markdown",
   "metadata": {},
   "source": [
    "#### `Access rows using labels`"
   ]
  },
  {
   "cell_type": "code",
   "execution_count": null,
   "metadata": {},
   "outputs": [],
   "source": [
    "row = df.loc['student1']\n",
    "print(type(row))\n",
    "print(row)"
   ]
  },
  {
   "cell_type": "code",
   "execution_count": null,
   "metadata": {},
   "outputs": [],
   "source": [
    "row = df.loc[['student1']]\n",
    "print(type(row))\n",
    "print(row)"
   ]
  },
  {
   "attachments": {},
   "cell_type": "markdown",
   "metadata": {},
   "source": [
    "#### `Access columns using column names`"
   ]
  },
  {
   "cell_type": "code",
   "execution_count": null,
   "metadata": {},
   "outputs": [],
   "source": [
    "# List out the names of columns in dataframe\n",
    "print('Before adding column(s)\\n', df.columns)"
   ]
  },
  {
   "cell_type": "code",
   "execution_count": null,
   "metadata": {},
   "outputs": [],
   "source": [
    "# Adding column for subject 'social'\n",
    "df['social'] = [1, 2, 3, 4, 5]\n",
    "print('After adding column(s)\\n', df.columns)"
   ]
  },
  {
   "cell_type": "code",
   "execution_count": null,
   "metadata": {},
   "outputs": [],
   "source": [
    "df.head()"
   ]
  },
  {
   "attachments": {},
   "cell_type": "markdown",
   "metadata": {},
   "source": [
    "#### `Find n-largest and n-smallest values in columns`"
   ]
  },
  {
   "cell_type": "code",
   "execution_count": null,
   "metadata": {},
   "outputs": [],
   "source": [
    "# find n-number of largest values based on particular column\n",
    "print(df.nlargest(3, ['english']))"
   ]
  },
  {
   "cell_type": "code",
   "execution_count": null,
   "metadata": {},
   "outputs": [],
   "source": [
    "# find n-number of largest values based on particular column\n",
    "print(df.nsmallest(3, ['english']))"
   ]
  },
  {
   "attachments": {},
   "cell_type": "markdown",
   "metadata": {},
   "source": [
    "#### `Convert dataframe into numpy array`"
   ]
  },
  {
   "cell_type": "code",
   "execution_count": null,
   "metadata": {},
   "outputs": [],
   "source": [
    "import pandas as pd\n",
    " \n",
    "# initialize a dataframe\n",
    "df = pd.DataFrame(\n",
    "        [[1, 2, 3],\n",
    "        [4, 5, 6],\n",
    "        [7, 8, 9],\n",
    "        [10, 11, 12]],\n",
    "        columns=['a', 'b', 'c']\n",
    "    )\n",
    "df.head()"
   ]
  },
  {
   "cell_type": "code",
   "execution_count": null,
   "metadata": {},
   "outputs": [],
   "source": [
    "# convert dataframe to numpy array\n",
    "arr = df.to_numpy()\n",
    " \n",
    "print('Numpy Array \\n', arr)\n",
    "print('Type of array: ', type(arr))\n",
    "print('Type of elements: ', arr.dtype)"
   ]
  },
  {
   "cell_type": "code",
   "execution_count": null,
   "metadata": {},
   "outputs": [],
   "source": [
    "# creating series using column of dataframe\n",
    "series = pd.Series(df['a'].head())\n",
    "arr = series.to_numpy()\n",
    "\n",
    "print('Numpy Array \\n', arr)\n",
    "print('Type of array: ', type(arr))\n",
    "print('Type of elements: ', arr.dtype)"
   ]
  },
  {
   "attachments": {},
   "cell_type": "markdown",
   "metadata": {},
   "source": [
    "#### `Load Data from CSV file`\n",
    "- uses pd.read_csv() to load into dataframe."
   ]
  },
  {
   "cell_type": "code",
   "execution_count": null,
   "metadata": {},
   "outputs": [],
   "source": [
    "# Load csv data as DataFrame\n",
    "df = pd.read_csv('./csv_files/organizations-10000.csv')"
   ]
  },
  {
   "cell_type": "code",
   "execution_count": null,
   "metadata": {},
   "outputs": [],
   "source": [
    "# Remove any of the column using column name\n",
    "df = df.drop(['Index'], axis=1)"
   ]
  },
  {
   "cell_type": "code",
   "execution_count": null,
   "metadata": {},
   "outputs": [],
   "source": [
    "# statistical information of dataframe\n",
    "df.describe()"
   ]
  },
  {
   "cell_type": "code",
   "execution_count": null,
   "metadata": {},
   "outputs": [],
   "source": [
    "# Datatype, count, and non-null information\n",
    "df.info()"
   ]
  },
  {
   "cell_type": "code",
   "execution_count": null,
   "metadata": {},
   "outputs": [],
   "source": [
    "# first 5 rows\n",
    "df.head()"
   ]
  },
  {
   "cell_type": "code",
   "execution_count": null,
   "metadata": {},
   "outputs": [],
   "source": [
    "# last 5 rows\n",
    "df.tail()"
   ]
  },
  {
   "cell_type": "code",
   "execution_count": null,
   "metadata": {},
   "outputs": [],
   "source": [
    "# Remove rows with empty cell returning new dataframe\n",
    "new_df = df.dropna()\n",
    "len(new_df)"
   ]
  },
  {
   "cell_type": "code",
   "execution_count": null,
   "metadata": {},
   "outputs": [],
   "source": [
    "# Remove rows with empty cell making change in original dataframe\n",
    "df.dropna(inplace=True)"
   ]
  },
  {
   "cell_type": "code",
   "execution_count": null,
   "metadata": {},
   "outputs": [],
   "source": [
    "# Removing rows with empty cell of particular column\n",
    "df.dropna(subset=['Website'], inplace=True)"
   ]
  },
  {
   "cell_type": "code",
   "execution_count": null,
   "metadata": {},
   "outputs": [],
   "source": [
    "# replace all the NaN values in dataframe\n",
    "df.fillna(0, inplace=True)"
   ]
  },
  {
   "cell_type": "code",
   "execution_count": null,
   "metadata": {},
   "outputs": [],
   "source": [
    "# replace the NaN values of particular column\n",
    "df['Country'].fillna(0, inplace=True)"
   ]
  },
  {
   "cell_type": "code",
   "execution_count": null,
   "metadata": {},
   "outputs": [],
   "source": [
    "# Replace statistical values: mean, median, mode\n",
    "num_emp_mean = df['Number of employees'].mean()\n",
    "df['Number of employees'].fillna(num_emp_mean, inplace=True)"
   ]
  },
  {
   "cell_type": "code",
   "execution_count": null,
   "metadata": {},
   "outputs": [],
   "source": [
    "df"
   ]
  },
  {
   "attachments": {},
   "cell_type": "markdown",
   "metadata": {},
   "source": [
    "#### `Column Selection of Dataframe`"
   ]
  },
  {
   "cell_type": "code",
   "execution_count": null,
   "metadata": {},
   "outputs": [],
   "source": [
    "# Listing all the columns in dataframe\n",
    "df.columns"
   ]
  },
  {
   "cell_type": "code",
   "execution_count": null,
   "metadata": {},
   "outputs": [],
   "source": [
    "# Selecting single column as Series\n",
    "name = df['Name']\n",
    "print(name, type(name))"
   ]
  },
  {
   "cell_type": "code",
   "execution_count": null,
   "metadata": {},
   "outputs": [],
   "source": [
    "name = df.Name\n",
    "print(name, type(name))"
   ]
  },
  {
   "cell_type": "code",
   "execution_count": null,
   "metadata": {},
   "outputs": [],
   "source": [
    "# selecting single column as DataFrame\n",
    "name = df[['Name']]\n",
    "print(name, type(name))"
   ]
  },
  {
   "attachments": {},
   "cell_type": "markdown",
   "metadata": {},
   "source": [
    "#### `Column Removal`"
   ]
  },
  {
   "cell_type": "code",
   "execution_count": null,
   "metadata": {},
   "outputs": [],
   "source": [
    "df.columns"
   ]
  },
  {
   "cell_type": "code",
   "execution_count": null,
   "metadata": {},
   "outputs": [],
   "source": [
    "# Remove any of the column using column name\n",
    "df.drop(['Website', 'Description'], axis=1, inplace=True)"
   ]
  },
  {
   "cell_type": "code",
   "execution_count": null,
   "metadata": {},
   "outputs": [],
   "source": [
    "df.columns"
   ]
  },
  {
   "cell_type": "code",
   "execution_count": null,
   "metadata": {},
   "outputs": [],
   "source": [
    "# Rename the column names with rename() method\n",
    "df.rename(\n",
    "    columns = {\n",
    "        'Organization Id':'org_id',\n",
    "        'Number of employees':'num_employees'\n",
    "    },\n",
    "    inplace = True\n",
    ")"
   ]
  },
  {
   "cell_type": "code",
   "execution_count": null,
   "metadata": {},
   "outputs": [],
   "source": [
    "df.columns"
   ]
  },
  {
   "attachments": {},
   "cell_type": "markdown",
   "metadata": {},
   "source": [
    "#### `Adding new rows in dataframe`"
   ]
  },
  {
   "cell_type": "code",
   "execution_count": null,
   "metadata": {},
   "outputs": [],
   "source": [
    "# Add new row\n",
    "new_data = {'org_id':'aaaaaa', 'Name':'SomeName', 'Country':'Nepal', 'Founded':2015, 'Industry':'software',\n",
    "       'num_employees':50}\n",
    "\n",
    "new_row = pd.DataFrame(new_data, index=[0])\n",
    "df = pd.concat([new_row, df]).reset_index(drop=True)\n",
    "df.head()"
   ]
  },
  {
   "attachments": {},
   "cell_type": "markdown",
   "metadata": {},
   "source": [
    "#### `Removal of duplicate rows`"
   ]
  },
  {
   "cell_type": "code",
   "execution_count": null,
   "metadata": {},
   "outputs": [],
   "source": [
    "## Run above cell more than once to create duplicate rows\n",
    "# remove duplicated rows\n",
    "dup = df.drop_duplicates().reset_index(drop=True)\n",
    "dup"
   ]
  },
  {
   "cell_type": "code",
   "execution_count": null,
   "metadata": {},
   "outputs": [],
   "source": [
    "## Remove duplicates in particular column\n",
    "df.drop_duplicates(subset=['Country'])"
   ]
  },
  {
   "cell_type": "code",
   "execution_count": null,
   "metadata": {},
   "outputs": [],
   "source": [
    "# Remove duplicates on specific column(s) and\n",
    "# keep last occurance rather than first\n",
    "df.drop_duplicates(subset=['Founded', 'Industry'], keep='last')"
   ]
  },
  {
   "attachments": {},
   "cell_type": "markdown",
   "metadata": {},
   "source": []
  },
  {
   "attachments": {},
   "cell_type": "markdown",
   "metadata": {},
   "source": [
    "#### `Filter dataframe based on condition`"
   ]
  },
  {
   "cell_type": "code",
   "execution_count": null,
   "metadata": {},
   "outputs": [],
   "source": [
    "df.head()"
   ]
  },
  {
   "cell_type": "code",
   "execution_count": null,
   "metadata": {},
   "outputs": [],
   "source": [
    "condition = df['Country']=='Nepal'\n",
    "condition"
   ]
  },
  {
   "cell_type": "code",
   "execution_count": null,
   "metadata": {},
   "outputs": [],
   "source": [
    "df[condition].head()"
   ]
  },
  {
   "attachments": {},
   "cell_type": "markdown",
   "metadata": {},
   "source": [
    "#### `Retrive unique values on columns`"
   ]
  },
  {
   "cell_type": "code",
   "execution_count": null,
   "metadata": {},
   "outputs": [],
   "source": [
    "# unique countries in column 'Country'\n",
    "df['Country'].unique()"
   ]
  },
  {
   "cell_type": "code",
   "execution_count": null,
   "metadata": {},
   "outputs": [],
   "source": [
    "# number of unique values in column\n",
    "df['Country'].nunique(dropna=True)"
   ]
  },
  {
   "attachments": {},
   "cell_type": "markdown",
   "metadata": {},
   "source": [
    "#### `Retrive index number of column`"
   ]
  },
  {
   "cell_type": "code",
   "execution_count": null,
   "metadata": {},
   "outputs": [],
   "source": [
    "index_num = df.columns.get_loc('Country')\n",
    "print(index_num)"
   ]
  },
  {
   "attachments": {},
   "cell_type": "markdown",
   "metadata": {},
   "source": [
    "#### `Convert series into dataframe`"
   ]
  },
  {
   "cell_type": "code",
   "execution_count": null,
   "metadata": {},
   "outputs": [],
   "source": [
    "# Creating series\n",
    "quantities =  [60, 20, 40, 90]\n",
    "labels = ['apple', 'realme', 'oppo', 'xiaomi']\n",
    "s = pd.Series(quantities, index=labels)\n",
    "s"
   ]
  },
  {
   "cell_type": "code",
   "execution_count": null,
   "metadata": {},
   "outputs": [],
   "source": [
    "# Conversion into dataframe\n",
    "col_name = \"mobile brand\"\n",
    "s_df = s.to_frame(name=col_name)\n",
    "\n",
    "print(type(s), f\"\\n{' '*18}to\\n\", type(s_df))\n",
    "s_df"
   ]
  },
  {
   "cell_type": "code",
   "execution_count": null,
   "metadata": {},
   "outputs": [],
   "source": [
    "# reset the index\n",
    "s_df = s_df.reset_index()\n",
    "s_df"
   ]
  },
  {
   "cell_type": "code",
   "execution_count": null,
   "metadata": {},
   "outputs": [],
   "source": [
    "# drop the index column\n",
    "s_df = s_df.drop(['index'], axis=1)\n",
    "s_df"
   ]
  }
 ],
 "metadata": {
  "kernelspec": {
   "display_name": "workshop",
   "language": "python",
   "name": "python3"
  },
  "language_info": {
   "codemirror_mode": {
    "name": "ipython",
    "version": 3
   },
   "file_extension": ".py",
   "mimetype": "text/x-python",
   "name": "python",
   "nbconvert_exporter": "python",
   "pygments_lexer": "ipython3",
   "version": "3.10.9"
  },
  "orig_nbformat": 4
 },
 "nbformat": 4,
 "nbformat_minor": 2
}
