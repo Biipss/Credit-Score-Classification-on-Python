{
 "cells": [
  {
   "attachments": {},
   "cell_type": "markdown",
   "metadata": {},
   "source": [
    "## `Class`\n",
    "- `Blueprint` for creating `objects` with same functionalities and different values.\n",
    "\n",
    "- User-defined prototype for object/s which defines set of attributes that characterize any object of the class. \n",
    "\n",
    "- Attributes are: `class variables`, `instance variables` and `methods` which can be accessed with dot notation.\n",
    "\n",
    "- Almost every variables in <span style=\"color:purple\">Python</span> are objects of some underlying classes, even the primitive data types.\n",
    "\n",
    "- `Syntax`\n",
    "```python\n",
    "    # Class creation\n",
    "    class ClassName:\n",
    "        class_variable = 1\n",
    "\n",
    "    # Object Creation\n",
    "    obj = ClassName()\n",
    "    print(obj.class_variable)\n",
    "```"
   ]
  },
  {
   "cell_type": "code",
   "execution_count": 1,
   "metadata": {},
   "outputs": [],
   "source": [
    "class ClassName:\n",
    "        class_variable=1"
   ]
  },
  {
   "cell_type": "code",
   "execution_count": 4,
   "metadata": {},
   "outputs": [
    {
     "name": "stdout",
     "output_type": "stream",
     "text": [
      "1\n",
      "3\n"
     ]
    }
   ],
   "source": [
    "obj = ClassName()\n",
    "print(obj.class_variable)\n",
    "obj.class_variable = 3\n",
    "print(obj.class_variable)"
   ]
  },
  {
   "cell_type": "code",
   "execution_count": null,
   "metadata": {},
   "outputs": [],
   "source": []
  },
  {
   "attachments": {},
   "cell_type": "markdown",
   "metadata": {},
   "source": [
    "####"
   ]
  },
  {
   "attachments": {},
   "cell_type": "markdown",
   "metadata": {},
   "source": [
    "#### `class variable or instance variable`\n",
    "&emsp;&emsp;Holds the data associated with the class and its objects.<br/>\n",
    "&emsp;&emsp;`Instance Variable` :- defined inside the method and belongs current object.<br/>\n",
    "&emsp;&emsp;"
   ]
  },
  {
   "attachments": {},
   "cell_type": "markdown",
   "metadata": {},
   "source": [
    "#### `Method`  \n",
    "&emsp;&emsp;Fuctions that are defined inside the class.<br/>"
   ]
  },
  {
   "attachments": {},
   "cell_type": "markdown",
   "metadata": {},
   "source": [
    "#### `Object`\n",
    "&emsp;&emsp;Instance of class."
   ]
  },
  {
   "attachments": {},
   "cell_type": "markdown",
   "metadata": {},
   "source": [
    "#### `Function Overloading`\n",
    "&emsp;&emsp;Providing multiple behavior to the fuction/s based on number or types of arguments or objects."
   ]
  },
  {
   "attachments": {},
   "cell_type": "markdown",
   "metadata": {},
   "source": [
    "#### Example\n",
    "```python\n",
    "    class People:\n",
    "        'People class as base class.'\n",
    "        person_count = 0    # class variable - shared among all objects\n",
    "\n",
    "        # Special method - constructor\n",
    "        def __init__(self, name, age):\n",
    "            self.name = name    # instance variable\n",
    "            self.age = age      # instance variable\n",
    "            People.person_count += 1 # Accessing class variable\n",
    "        \n",
    "        # method\n",
    "        def show_count(self):\n",
    "            print(f\"Total People: {People.person_count}\")\n",
    "\n",
    "        # method\n",
    "        def show_details(self):\n",
    "            print(f\"Name : {self.name} Age: {self.age}\")\n",
    "    \n",
    "    \n",
    "    # first object creation\n",
    "    person1 = People('Hari', 30)\n",
    "    \n",
    "    # Access the attributes of the object.\n",
    "    person1.show_details()\n",
    "    print(f\"Total number of people {People.person_count}\")\n",
    "\n",
    "    # Modify attribute\n",
    "    person1.age = 31\n",
    "\n",
    "    # remove attribute\n",
    "    del person1.age\n",
    "\n",
    "```"
   ]
  },
  {
   "cell_type": "code",
   "execution_count": null,
   "metadata": {},
   "outputs": [],
   "source": [
    "class People:\n",
    "        'People class as base class.'\n",
    "        person_count = 0    # class variable - shared among all objects\n",
    "\n",
    "        # Special method - constructor\n",
    "        def __init__(self, name, age):\n",
    "            self.name = name    # instance variable\n",
    "            self.age = age      # instance variable\n",
    "            People.person_count += 1 # Accessing class variable\n",
    "        \n",
    "        # method\n",
    "        def show_count(self):\n",
    "            print(f\"Total People: {People.person_count}\")\n",
    "\n",
    "        # method\n",
    "        def show_details(self):\n",
    "            print(f\"Name : {self.name} Age: {self.age}\")\n",
    "    \n",
    "    \n",
    "    # first object creation\n",
    "    person1 = People('Hari', 30)\n",
    "    \n",
    "    # Access the attributes of the object.\n",
    "    person1.show_details()\n",
    "    print(f\"Total number of people {People.person_count}\")\n",
    "\n",
    "    # Modify attribute\n",
    "    person1.age = 31\n",
    "\n",
    "    # remove attribute\n",
    "   # del person1.age\n"
   ]
  },
  {
   "attachments": {},
   "cell_type": "markdown",
   "metadata": {},
   "source": [
    "#### `Attribute manipulation with dot notation.`"
   ]
  },
  {
   "attachments": {},
   "cell_type": "markdown",
   "metadata": {},
   "source": [
    "#### `Attribute manipulation with functions.`\n",
    "- getattr(obj, name) > access attribute value\n",
    "- hasattr(obj, name) > check if attribute exists.\n",
    "- setattr(obj, name, value) > set attribute with value.\n",
    "- delattr(obj, name) > delete attribute."
   ]
  },
  {
   "attachments": {},
   "cell_type": "markdown",
   "metadata": {},
   "source": [
    "#### `Private and Public variables`\n",
    "\n",
    "- Double underscore `_` is prefixed to variable name to identify variable as private variable.\n",
    "\n",
    "- Unlike public variable, private variable can't be accessed with dot notation. To access with it, class name must be inncluded after dot notation\n",
    "i.e.\n",
    "```python\n",
    "    class SomeClass:\n",
    "        def __init__(self, var1, var2):\n",
    "            self.var1 = var1\n",
    "            self.__var2 = var2\n",
    "    \n",
    "    obj = SomeClass()\n",
    "    print(obj.var1) # ✔\n",
    "    print(obj.var2) # ✘\n",
    "```\n"
   ]
  },
  {
   "attachments": {},
   "cell_type": "markdown",
   "metadata": {},
   "source": [
    "#### `Inheritance`\n",
    "- Mechanism that allows to create a hierarchy of classes that inherits the properties of the base class.\n",
    "#### `Syntax`\n",
    "```python \n",
    "    class BaseClass:\n",
    "        ...\n",
    "        \n",
    "    class DerivedClass(BaseClass):\n",
    "        ...\n",
    "```"
   ]
  },
  {
   "attachments": {},
   "cell_type": "markdown",
   "metadata": {},
   "source": [
    "#### `Base or Parent Class`\n",
    "- The class whose attributes are being inherited."
   ]
  },
  {
   "attachments": {},
   "cell_type": "markdown",
   "metadata": {},
   "source": [
    "#### `Derived or Child Class`\n",
    "- The class which inherits the attributes of base class."
   ]
  },
  {
   "cell_type": "code",
   "execution_count": 2,
   "metadata": {},
   "outputs": [],
   "source": [
    "# Inheritance Demonstration\n",
    "\n",
    "# Generally, object is made ancestor of all classes\n",
    "# \"class Person\" is equivalent to \"class Person(object)\"\n",
    "class Person(object):\n",
    "    # Constructor\n",
    "    def __init__(self, name):\n",
    "        self.name = name\n",
    " \n",
    "    # To get name\n",
    "    def get_name(self):\n",
    "        return self.name\n",
    " \n",
    "    # To check if this person is an employee\n",
    "    def is_employee(self):\n",
    "        return False\n",
    " \n",
    " \n",
    "# Derived Class (Note Person in bracket)\n",
    "class Employee(Person):\n",
    "    # constructor\n",
    "    def __init__(self, id, name):\n",
    "        self.id = id\n",
    "\n",
    "        #Person.__init__(self, name)\n",
    "        # super().__init__(name)\n",
    "\n",
    "    # Here we return true\n",
    "    def is_employee(self):\n",
    "        return True\n",
    " \n",
    " \n"
   ]
  },
  {
   "cell_type": "code",
   "execution_count": 5,
   "metadata": {},
   "outputs": [
    {
     "name": "stdout",
     "output_type": "stream",
     "text": [
      "Ram\n",
      "False\n"
     ]
    }
   ],
   "source": [
    " \n",
    "# Driver code\n",
    "emp = Person(\"Ram\")  # An Object of Person\n",
    "print(emp.get_name()) \n",
    "print(emp.is_employee())"
   ]
  },
  {
   "cell_type": "code",
   "execution_count": 11,
   "metadata": {},
   "outputs": [],
   "source": [
    "emp1= Employee(123, \"Shyam\")  # An Object of Employee\n"
   ]
  },
  {
   "cell_type": "code",
   "execution_count": null,
   "metadata": {},
   "outputs": [],
   "source": [
    "print(emp1.get_name())"
   ]
  },
  {
   "cell_type": "code",
   "execution_count": 12,
   "metadata": {},
   "outputs": [
    {
     "name": "stdout",
     "output_type": "stream",
     "text": [
      "True\n"
     ]
    }
   ],
   "source": [
    "print(emp1.is_employee())"
   ]
  },
  {
   "attachments": {},
   "cell_type": "markdown",
   "metadata": {},
   "source": [
    "#### ⏩ If you forget to invoke the `__init__()` of the parent class then its instance variables would not be available to the child class. "
   ]
  },
  {
   "attachments": {},
   "cell_type": "markdown",
   "metadata": {},
   "source": [
    "#### `Types of Inheritance`\n",
    "![image](../images/typesofinheritance.gif)"
   ]
  },
  {
   "cell_type": "code",
   "execution_count": null,
   "metadata": {},
   "outputs": [],
   "source": []
  },
  {
   "attachments": {},
   "cell_type": "markdown",
   "metadata": {},
   "source": [
    "#### `Single Inheritance`\n",
    "![image](../images/single_inheritance.png)\n",
    "\n",
    "- The derived class is inherited from only one base class.\n",
    "- In picture, derived class `class B` is derived from base class `class A`.\n"
   ]
  },
  {
   "attachments": {},
   "cell_type": "markdown",
   "metadata": {},
   "source": [
    "#### `Multiple Inheritance`\n",
    "![image](../images/multiple-inheritance.png)\n",
    "\n",
    "- Derived class is inherited from more than one base classes.\n",
    "\n",
    "- In picture, deerived class `class C` is inherited from base classes `class A` and `class B`."
   ]
  },
  {
   "attachments": {},
   "cell_type": "markdown",
   "metadata": {},
   "source": [
    "#### `Multilevel Inheritance`\n",
    "![image](../images/Multilevel-inheritance.png)\n",
    "\n",
    "- The derived class is further used as base class to generate new derived class of it. \n",
    "- In picture, derived class `class B` is derived from base class `class A` while `class C` is derived from `class B` which is derived on its own."
   ]
  },
  {
   "attachments": {},
   "cell_type": "markdown",
   "metadata": {},
   "source": [
    "#### Hierarchial Inheritance\n",
    "![image](../images/Hierarchical-inheritance.png)\n",
    "\n",
    "- Multiple derived classes are generated having same base class.\n",
    "- In picture, derived classes `class B`, `class C` and `class D` have same base class `class A`."
   ]
  },
  {
   "attachments": {},
   "cell_type": "markdown",
   "metadata": {},
   "source": [
    "#### `Hybrid Inheritance`\n",
    "![image](../images/Hybrid-Inheritance.png)\n",
    "\n",
    "- Inheritance consisting of multiple inheritance."
   ]
  },
  {
   "attachments": {},
   "cell_type": "markdown",
   "metadata": {},
   "source": [
    "#### `Abstract Classes`"
   ]
  },
  {
   "attachments": {},
   "cell_type": "markdown",
   "metadata": {},
   "source": [
    "- can be considered as blueprint for other classes.\n",
    "- allows to declace set of methods that must be created within all derived classes built from the abstract class.\n",
    "- abstract method has declaration but not any implementation in abstract class.\n",
    "- module named `abc` (Abstract Base Class) provides base for defining abstract class.\n",
    "- methods becomes abstract when it is decorated with keyword @abstractmethod. "
   ]
  },
  {
   "cell_type": "code",
   "execution_count": null,
   "metadata": {},
   "outputs": [],
   "source": [
    "from abc import ABC, abstractmethod\n",
    "\n",
    "class Shape(ABC):\n",
    "    @abstractmethod\n",
    "    def num_sides(self):\n",
    "        pass\n",
    "\n",
    "class Square(Shape):\n",
    "    def num_sides(self):\n",
    "        return 4\n",
    "\n",
    "class Triangle(Shape):\n",
    "    def num_sides(self):\n",
    "        return 2"
   ]
  }
 ],
 "metadata": {
  "kernelspec": {
   "display_name": "workshop",
   "language": "python",
   "name": "python3"
  },
  "language_info": {
   "codemirror_mode": {
    "name": "ipython",
    "version": 3
   },
   "file_extension": ".py",
   "mimetype": "text/x-python",
   "name": "python",
   "nbconvert_exporter": "python",
   "pygments_lexer": "ipython3",
   "version": "3.10.9"
  },
  "orig_nbformat": 4
 },
 "nbformat": 4,
 "nbformat_minor": 2
}
